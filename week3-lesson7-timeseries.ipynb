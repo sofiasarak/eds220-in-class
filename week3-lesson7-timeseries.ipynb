{
 "cells": [
  {
   "cell_type": "markdown",
   "id": "0cb1e21a-fa2b-4a34-9d4d-b455a414d583",
   "metadata": {},
   "source": [
    "# Time series\n",
    "\n",
    "## Timestamps\n",
    "\n",
    "`pandas` represents an instant in time using the `pandas.Timestamp` class"
   ]
  },
  {
   "cell_type": "code",
   "execution_count": 2,
   "id": "ec7de9d4-353f-41ad-9c94-3994c8d946d9",
   "metadata": {
    "tags": []
   },
   "outputs": [
    {
     "data": {
      "text/plain": [
       "Timestamp('2025-10-16 09:56:40')"
      ]
     },
     "execution_count": 2,
     "metadata": {},
     "output_type": "execute_result"
    }
   ],
   "source": [
    "import pandas as pd\n",
    "\n",
    "# Create a timestamp\n",
    "pd.Timestamp(year=2025,\n",
    "             month=10,\n",
    "             day=16,\n",
    "             hour=9,\n",
    "             minute=56,\n",
    "             second=40)"
   ]
  },
  {
   "cell_type": "code",
   "execution_count": 4,
   "id": "b2e449fc-c609-443d-a364-b2ae64bc50b7",
   "metadata": {
    "tags": []
   },
   "outputs": [
    {
     "data": {
      "text/plain": [
       "0   2020-10-16\n",
       "1   2020-10-17\n",
       "2   2020-10-18\n",
       "dtype: datetime64[ns]"
      ]
     },
     "execution_count": 4,
     "metadata": {},
     "output_type": "execute_result"
    }
   ],
   "source": [
    "# Can put timestamps into a series\n",
    "pd.Series([pd.Timestamp(2020, 10, 16),\n",
    "           pd.Timestamp(2020, 10, 17),\n",
    "           pd.Timestamp(2020, 10, 18)])"
   ]
  },
  {
   "cell_type": "markdown",
   "id": "3860eb07-70ba-41ac-b43a-317280d1eef0",
   "metadata": {},
   "source": [
    "## Data Exploration\n",
    "\n",
    "Reading in the data and taking a look at it."
   ]
  },
  {
   "cell_type": "code",
   "execution_count": 5,
   "id": "a0a68171-3ccc-42f5-a85b-5f1deb750d57",
   "metadata": {
    "tags": []
   },
   "outputs": [
    {
     "data": {
      "text/html": [
       "<div>\n",
       "<style scoped>\n",
       "    .dataframe tbody tr th:only-of-type {\n",
       "        vertical-align: middle;\n",
       "    }\n",
       "\n",
       "    .dataframe tbody tr th {\n",
       "        vertical-align: top;\n",
       "    }\n",
       "\n",
       "    .dataframe thead th {\n",
       "        text-align: right;\n",
       "    }\n",
       "</style>\n",
       "<table border=\"1\" class=\"dataframe\">\n",
       "  <thead>\n",
       "    <tr style=\"text-align: right;\">\n",
       "      <th></th>\n",
       "      <th>STATION</th>\n",
       "      <th>STATION_NAME</th>\n",
       "      <th>DATE</th>\n",
       "      <th>HPCP</th>\n",
       "      <th>Measurement Flag</th>\n",
       "      <th>Quality Flag</th>\n",
       "    </tr>\n",
       "  </thead>\n",
       "  <tbody>\n",
       "    <tr>\n",
       "      <th>0</th>\n",
       "      <td>COOP:055881</td>\n",
       "      <td>NEDERLAND 5 NNW CO US</td>\n",
       "      <td>20000101 00:00</td>\n",
       "      <td>999.99</td>\n",
       "      <td>]</td>\n",
       "      <td></td>\n",
       "    </tr>\n",
       "    <tr>\n",
       "      <th>1</th>\n",
       "      <td>COOP:055881</td>\n",
       "      <td>NEDERLAND 5 NNW CO US</td>\n",
       "      <td>20000101 01:00</td>\n",
       "      <td>0.00</td>\n",
       "      <td>g</td>\n",
       "      <td></td>\n",
       "    </tr>\n",
       "    <tr>\n",
       "      <th>2</th>\n",
       "      <td>COOP:055881</td>\n",
       "      <td>NEDERLAND 5 NNW CO US</td>\n",
       "      <td>20000102 20:00</td>\n",
       "      <td>0.00</td>\n",
       "      <td></td>\n",
       "      <td>q</td>\n",
       "    </tr>\n",
       "    <tr>\n",
       "      <th>3</th>\n",
       "      <td>COOP:055881</td>\n",
       "      <td>NEDERLAND 5 NNW CO US</td>\n",
       "      <td>20000103 01:00</td>\n",
       "      <td>0.00</td>\n",
       "      <td></td>\n",
       "      <td>q</td>\n",
       "    </tr>\n",
       "    <tr>\n",
       "      <th>4</th>\n",
       "      <td>COOP:055881</td>\n",
       "      <td>NEDERLAND 5 NNW CO US</td>\n",
       "      <td>20000103 05:00</td>\n",
       "      <td>0.00</td>\n",
       "      <td></td>\n",
       "      <td>q</td>\n",
       "    </tr>\n",
       "  </tbody>\n",
       "</table>\n",
       "</div>"
      ],
      "text/plain": [
       "       STATION           STATION_NAME            DATE    HPCP  \\\n",
       "0  COOP:055881  NEDERLAND 5 NNW CO US  20000101 00:00  999.99   \n",
       "1  COOP:055881  NEDERLAND 5 NNW CO US  20000101 01:00    0.00   \n",
       "2  COOP:055881  NEDERLAND 5 NNW CO US  20000102 20:00    0.00   \n",
       "3  COOP:055881  NEDERLAND 5 NNW CO US  20000103 01:00    0.00   \n",
       "4  COOP:055881  NEDERLAND 5 NNW CO US  20000103 05:00    0.00   \n",
       "\n",
       "  Measurement Flag Quality Flag  \n",
       "0                ]               \n",
       "1                g               \n",
       "2                             q  \n",
       "3                             q  \n",
       "4                             q  "
      ]
     },
     "execution_count": 5,
     "metadata": {},
     "output_type": "execute_result"
    }
   ],
   "source": [
    "# Read in precipitation data\n",
    "URL = 'https://raw.githubusercontent.com/carmengg/eds-220-book/main/data/boulder_colorado_2013_hourly_precipitation.csv'\n",
    "precip = pd.read_csv(URL)\n",
    "\n",
    "precip.head()"
   ]
  },
  {
   "cell_type": "code",
   "execution_count": 6,
   "id": "e1c1acc1-db07-46fa-a755-59efeedc0a9a",
   "metadata": {
    "tags": []
   },
   "outputs": [
    {
     "data": {
      "text/plain": [
       "<Axes: >"
      ]
     },
     "execution_count": 6,
     "metadata": {},
     "output_type": "execute_result"
    },
    {
     "data": {
      "image/png": "[encoded data removed]",
      "text/plain": [
       "<Figure size 640x480 with 1 Axes>"
      ]
     },
     "metadata": {},
     "output_type": "display_data"
    }
   ],
   "source": [
    "precip.plot()"
   ]
  },
  {
   "cell_type": "markdown",
   "id": "2db20161-9c17-4d2a-bbc3-ee79427efbd0",
   "metadata": {},
   "source": [
    "## Reading in missing data values\n",
    "\n",
    "Metadata indicates missing values are 999.99. \n",
    "\n",
    "We can directly read-in this value as an NA value using `pd.read_csv`."
   ]
  },
  {
   "cell_type": "code",
   "execution_count": 7,
   "id": "2c226d7b-93ad-4462-bf4d-b7e5dc6bef7b",
   "metadata": {
    "tags": []
   },
   "outputs": [
    {
     "data": {
      "text/html": [
       "<div>\n",
       "<style scoped>\n",
       "    .dataframe tbody tr th:only-of-type {\n",
       "        vertical-align: middle;\n",
       "    }\n",
       "\n",
       "    .dataframe tbody tr th {\n",
       "        vertical-align: top;\n",
       "    }\n",
       "\n",
       "    .dataframe thead th {\n",
       "        text-align: right;\n",
       "    }\n",
       "</style>\n",
       "<table border=\"1\" class=\"dataframe\">\n",
       "  <thead>\n",
       "    <tr style=\"text-align: right;\">\n",
       "      <th></th>\n",
       "      <th>STATION</th>\n",
       "      <th>STATION_NAME</th>\n",
       "      <th>DATE</th>\n",
       "      <th>HPCP</th>\n",
       "      <th>Measurement Flag</th>\n",
       "      <th>Quality Flag</th>\n",
       "    </tr>\n",
       "  </thead>\n",
       "  <tbody>\n",
       "    <tr>\n",
       "      <th>0</th>\n",
       "      <td>COOP:055881</td>\n",
       "      <td>NEDERLAND 5 NNW CO US</td>\n",
       "      <td>20000101 00:00</td>\n",
       "      <td>NaN</td>\n",
       "      <td>]</td>\n",
       "      <td></td>\n",
       "    </tr>\n",
       "    <tr>\n",
       "      <th>1</th>\n",
       "      <td>COOP:055881</td>\n",
       "      <td>NEDERLAND 5 NNW CO US</td>\n",
       "      <td>20000101 01:00</td>\n",
       "      <td>0.0</td>\n",
       "      <td>g</td>\n",
       "      <td></td>\n",
       "    </tr>\n",
       "    <tr>\n",
       "      <th>2</th>\n",
       "      <td>COOP:055881</td>\n",
       "      <td>NEDERLAND 5 NNW CO US</td>\n",
       "      <td>20000102 20:00</td>\n",
       "      <td>0.0</td>\n",
       "      <td></td>\n",
       "      <td>q</td>\n",
       "    </tr>\n",
       "    <tr>\n",
       "      <th>3</th>\n",
       "      <td>COOP:055881</td>\n",
       "      <td>NEDERLAND 5 NNW CO US</td>\n",
       "      <td>20000103 01:00</td>\n",
       "      <td>0.0</td>\n",
       "      <td></td>\n",
       "      <td>q</td>\n",
       "    </tr>\n",
       "    <tr>\n",
       "      <th>4</th>\n",
       "      <td>COOP:055881</td>\n",
       "      <td>NEDERLAND 5 NNW CO US</td>\n",
       "      <td>20000103 05:00</td>\n",
       "      <td>0.0</td>\n",
       "      <td></td>\n",
       "      <td>q</td>\n",
       "    </tr>\n",
       "  </tbody>\n",
       "</table>\n",
       "</div>"
      ],
      "text/plain": [
       "       STATION           STATION_NAME            DATE  HPCP Measurement Flag  \\\n",
       "0  COOP:055881  NEDERLAND 5 NNW CO US  20000101 00:00   NaN                ]   \n",
       "1  COOP:055881  NEDERLAND 5 NNW CO US  20000101 01:00   0.0                g   \n",
       "2  COOP:055881  NEDERLAND 5 NNW CO US  20000102 20:00   0.0                    \n",
       "3  COOP:055881  NEDERLAND 5 NNW CO US  20000103 01:00   0.0                    \n",
       "4  COOP:055881  NEDERLAND 5 NNW CO US  20000103 05:00   0.0                    \n",
       "\n",
       "  Quality Flag  \n",
       "0               \n",
       "1               \n",
       "2            q  \n",
       "3            q  \n",
       "4            q  "
      ]
     },
     "execution_count": 7,
     "metadata": {},
     "output_type": "execute_result"
    }
   ],
   "source": [
    "# Read in CSV indicating NA values based on metadata\n",
    "precip = pd.read_csv(URL, na_values=[999.99])\n",
    "\n",
    "precip.head()"
   ]
  },
  {
   "cell_type": "code",
   "execution_count": 8,
   "id": "1a19e4fb-56ef-4c76-815c-1888ee71ad0d",
   "metadata": {
    "tags": []
   },
   "outputs": [
    {
     "data": {
      "text/plain": [
       "<Axes: >"
      ]
     },
     "execution_count": 8,
     "metadata": {},
     "output_type": "execute_result"
    },
    {
     "data": {
      "image/png": "[encoded data removed]",
      "text/plain": [
       "<Figure size 640x480 with 1 Axes>"
      ]
     },
     "metadata": {},
     "output_type": "display_data"
    }
   ],
   "source": [
    "precip.plot()"
   ]
  },
  {
   "cell_type": "markdown",
   "id": "bd8ce2c0-dcb2-4676-8b50-b3bef0f00b8e",
   "metadata": {},
   "source": [
    "## Convert strings into dates\n",
    "\n",
    "Note `DATE` column in our dataframe is not of type `datatime`:"
   ]
  },
  {
   "cell_type": "code",
   "execution_count": 9,
   "id": "b06fe0a1-3b52-43f5-8e73-5471615d629b",
   "metadata": {
    "tags": []
   },
   "outputs": [
    {
     "data": {
      "text/plain": [
       "STATION              object\n",
       "STATION_NAME         object\n",
       "DATE                 object\n",
       "HPCP                float64\n",
       "Measurement Flag     object\n",
       "Quality Flag         object\n",
       "dtype: object"
      ]
     },
     "execution_count": 9,
     "metadata": {},
     "output_type": "execute_result"
    }
   ],
   "source": [
    "# Check whether DATE column is of type datetime\n",
    "precip.dtypes"
   ]
  },
  {
   "cell_type": "code",
   "execution_count": 10,
   "id": "13f88b4c-c0bf-48ab-9996-d9a4dad0521e",
   "metadata": {
    "tags": []
   },
   "outputs": [
    {
     "data": {
      "text/plain": [
       "0      2000-01-01 00:00:00\n",
       "1      2000-01-01 01:00:00\n",
       "2      2000-01-02 20:00:00\n",
       "3      2000-01-03 01:00:00\n",
       "4      2000-01-03 05:00:00\n",
       "               ...        \n",
       "9001   2013-12-22 01:00:00\n",
       "9002   2013-12-23 00:00:00\n",
       "9003   2013-12-23 02:00:00\n",
       "9004   2013-12-29 01:00:00\n",
       "9005   2013-12-31 00:00:00\n",
       "Name: DATE, Length: 9006, dtype: datetime64[ns]"
      ]
     },
     "execution_count": 10,
     "metadata": {},
     "output_type": "execute_result"
    }
   ],
   "source": [
    "# Convert DATE column to timestamps\n",
    "pd.to_datetime(precip['DATE'])"
   ]
  },
  {
   "cell_type": "code",
   "execution_count": 11,
   "id": "a720c355-8905-4344-8d34-08520d0cfc59",
   "metadata": {
    "tags": []
   },
   "outputs": [
    {
     "data": {
      "text/plain": [
       "0       20000101 00:00\n",
       "1       20000101 01:00\n",
       "2       20000102 20:00\n",
       "3       20000103 01:00\n",
       "4       20000103 05:00\n",
       "             ...      \n",
       "9001    20131222 01:00\n",
       "9002    20131223 00:00\n",
       "9003    20131223 02:00\n",
       "9004    20131229 01:00\n",
       "9005    20131231 00:00\n",
       "Name: DATE, Length: 9006, dtype: object"
      ]
     },
     "execution_count": 11,
     "metadata": {},
     "output_type": "execute_result"
    }
   ],
   "source": [
    "precip['DATE']"
   ]
  },
  {
   "cell_type": "code",
   "execution_count": 12,
   "id": "76eb62db-201c-4390-b85a-d18835bc767f",
   "metadata": {
    "tags": []
   },
   "outputs": [
    {
     "data": {
      "text/plain": [
       "STATION                     object\n",
       "STATION_NAME                object\n",
       "DATE                datetime64[ns]\n",
       "HPCP                       float64\n",
       "Measurement Flag            object\n",
       "Quality Flag                object\n",
       "dtype: object"
      ]
     },
     "execution_count": 12,
     "metadata": {},
     "output_type": "execute_result"
    }
   ],
   "source": [
    "# Actually converting within data frame\n",
    "precip['DATE'] = pd.to_datetime(precip['DATE'])\n",
    "\n",
    "# Check DATE column data type is updated\n",
    "precip.dtypes"
   ]
  },
  {
   "cell_type": "code",
   "execution_count": 13,
   "id": "e5f46a8e-91be-4eb5-9eb7-37b55f92e688",
   "metadata": {
    "tags": []
   },
   "outputs": [
    {
     "data": {
      "text/plain": [
       "<Axes: xlabel='DATE'>"
      ]
     },
     "execution_count": 13,
     "metadata": {},
     "output_type": "execute_result"
    },
    {
     "data": {
      "image/png": "[encoded data removed]",
      "text/plain": [
       "<Figure size 640x480 with 1 Axes>"
      ]
     },
     "metadata": {},
     "output_type": "display_data"
    }
   ],
   "source": [
    "precip.plot(x='DATE', y='HPCP')"
   ]
  },
  {
   "cell_type": "code",
   "execution_count": 14,
   "id": "11382893-53ac-46c3-8995-c07991f3986d",
   "metadata": {
    "tags": []
   },
   "outputs": [
    {
     "data": {
      "text/html": [
       "<div>\n",
       "<style scoped>\n",
       "    .dataframe tbody tr th:only-of-type {\n",
       "        vertical-align: middle;\n",
       "    }\n",
       "\n",
       "    .dataframe tbody tr th {\n",
       "        vertical-align: top;\n",
       "    }\n",
       "\n",
       "    .dataframe thead th {\n",
       "        text-align: right;\n",
       "    }\n",
       "</style>\n",
       "<table border=\"1\" class=\"dataframe\">\n",
       "  <thead>\n",
       "    <tr style=\"text-align: right;\">\n",
       "      <th></th>\n",
       "      <th>STATION</th>\n",
       "      <th>STATION_NAME</th>\n",
       "      <th>HPCP</th>\n",
       "      <th>Measurement Flag</th>\n",
       "      <th>Quality Flag</th>\n",
       "    </tr>\n",
       "    <tr>\n",
       "      <th>DATE</th>\n",
       "      <th></th>\n",
       "      <th></th>\n",
       "      <th></th>\n",
       "      <th></th>\n",
       "      <th></th>\n",
       "    </tr>\n",
       "  </thead>\n",
       "  <tbody>\n",
       "    <tr>\n",
       "      <th>2000-01-01 00:00:00</th>\n",
       "      <td>COOP:055881</td>\n",
       "      <td>NEDERLAND 5 NNW CO US</td>\n",
       "      <td>NaN</td>\n",
       "      <td>]</td>\n",
       "      <td></td>\n",
       "    </tr>\n",
       "    <tr>\n",
       "      <th>2000-01-01 01:00:00</th>\n",
       "      <td>COOP:055881</td>\n",
       "      <td>NEDERLAND 5 NNW CO US</td>\n",
       "      <td>0.0</td>\n",
       "      <td>g</td>\n",
       "      <td></td>\n",
       "    </tr>\n",
       "    <tr>\n",
       "      <th>2000-01-02 20:00:00</th>\n",
       "      <td>COOP:055881</td>\n",
       "      <td>NEDERLAND 5 NNW CO US</td>\n",
       "      <td>0.0</td>\n",
       "      <td></td>\n",
       "      <td>q</td>\n",
       "    </tr>\n",
       "    <tr>\n",
       "      <th>2000-01-03 01:00:00</th>\n",
       "      <td>COOP:055881</td>\n",
       "      <td>NEDERLAND 5 NNW CO US</td>\n",
       "      <td>0.0</td>\n",
       "      <td></td>\n",
       "      <td>q</td>\n",
       "    </tr>\n",
       "    <tr>\n",
       "      <th>2000-01-03 05:00:00</th>\n",
       "      <td>COOP:055881</td>\n",
       "      <td>NEDERLAND 5 NNW CO US</td>\n",
       "      <td>0.0</td>\n",
       "      <td></td>\n",
       "      <td>q</td>\n",
       "    </tr>\n",
       "  </tbody>\n",
       "</table>\n",
       "</div>"
      ],
      "text/plain": [
       "                         STATION           STATION_NAME  HPCP  \\\n",
       "DATE                                                            \n",
       "2000-01-01 00:00:00  COOP:055881  NEDERLAND 5 NNW CO US   NaN   \n",
       "2000-01-01 01:00:00  COOP:055881  NEDERLAND 5 NNW CO US   0.0   \n",
       "2000-01-02 20:00:00  COOP:055881  NEDERLAND 5 NNW CO US   0.0   \n",
       "2000-01-03 01:00:00  COOP:055881  NEDERLAND 5 NNW CO US   0.0   \n",
       "2000-01-03 05:00:00  COOP:055881  NEDERLAND 5 NNW CO US   0.0   \n",
       "\n",
       "                    Measurement Flag Quality Flag  \n",
       "DATE                                               \n",
       "2000-01-01 00:00:00                ]               \n",
       "2000-01-01 01:00:00                g               \n",
       "2000-01-02 20:00:00                             q  \n",
       "2000-01-03 01:00:00                             q  \n",
       "2000-01-03 05:00:00                             q  "
      ]
     },
     "execution_count": 14,
     "metadata": {},
     "output_type": "execute_result"
    }
   ],
   "source": [
    "# Setting index to be the date column of the data frame\n",
    "precip = precip.set_index('DATE')\n",
    "\n",
    "precip.head()"
   ]
  },
  {
   "cell_type": "code",
   "execution_count": 15,
   "id": "96104961-6476-46e3-a57e-b2654de5ef21",
   "metadata": {
    "tags": []
   },
   "outputs": [
    {
     "data": {
      "text/plain": [
       "<Axes: xlabel='DATE'>"
      ]
     },
     "execution_count": 15,
     "metadata": {},
     "output_type": "execute_result"
    },
    {
     "data": {
      "image/png": "[encoded data removed]",
      "text/plain": [
       "<Figure size 640x480 with 1 Axes>"
      ]
     },
     "metadata": {},
     "output_type": "display_data"
    }
   ],
   "source": [
    "precip.plot()\n",
    "\n",
    "# default is to map index as the x-axis, so this command works better on its own now"
   ]
  },
  {
   "cell_type": "markdown",
   "id": "ede8ffb6-3e8a-4587-872e-22c289663cf8",
   "metadata": {},
   "source": [
    "## Read in dataset in specific format"
   ]
  },
  {
   "cell_type": "code",
   "execution_count": 17,
   "id": "ef4db8fb-2f12-4d09-aef9-98b0bd87e187",
   "metadata": {
    "tags": []
   },
   "outputs": [
    {
     "data": {
      "text/html": [
       "<div>\n",
       "<style scoped>\n",
       "    .dataframe tbody tr th:only-of-type {\n",
       "        vertical-align: middle;\n",
       "    }\n",
       "\n",
       "    .dataframe tbody tr th {\n",
       "        vertical-align: top;\n",
       "    }\n",
       "\n",
       "    .dataframe thead th {\n",
       "        text-align: right;\n",
       "    }\n",
       "</style>\n",
       "<table border=\"1\" class=\"dataframe\">\n",
       "  <thead>\n",
       "    <tr style=\"text-align: right;\">\n",
       "      <th></th>\n",
       "      <th>STATION</th>\n",
       "      <th>STATION_NAME</th>\n",
       "      <th>HPCP</th>\n",
       "      <th>Measurement Flag</th>\n",
       "      <th>Quality Flag</th>\n",
       "    </tr>\n",
       "    <tr>\n",
       "      <th>DATE</th>\n",
       "      <th></th>\n",
       "      <th></th>\n",
       "      <th></th>\n",
       "      <th></th>\n",
       "      <th></th>\n",
       "    </tr>\n",
       "  </thead>\n",
       "  <tbody>\n",
       "    <tr>\n",
       "      <th>2000-01-01 00:00:00</th>\n",
       "      <td>COOP:055881</td>\n",
       "      <td>NEDERLAND 5 NNW CO US</td>\n",
       "      <td>NaN</td>\n",
       "      <td>]</td>\n",
       "      <td></td>\n",
       "    </tr>\n",
       "    <tr>\n",
       "      <th>2000-01-01 01:00:00</th>\n",
       "      <td>COOP:055881</td>\n",
       "      <td>NEDERLAND 5 NNW CO US</td>\n",
       "      <td>0.0</td>\n",
       "      <td>g</td>\n",
       "      <td></td>\n",
       "    </tr>\n",
       "    <tr>\n",
       "      <th>2000-01-02 20:00:00</th>\n",
       "      <td>COOP:055881</td>\n",
       "      <td>NEDERLAND 5 NNW CO US</td>\n",
       "      <td>0.0</td>\n",
       "      <td></td>\n",
       "      <td>q</td>\n",
       "    </tr>\n",
       "    <tr>\n",
       "      <th>2000-01-03 01:00:00</th>\n",
       "      <td>COOP:055881</td>\n",
       "      <td>NEDERLAND 5 NNW CO US</td>\n",
       "      <td>0.0</td>\n",
       "      <td></td>\n",
       "      <td>q</td>\n",
       "    </tr>\n",
       "    <tr>\n",
       "      <th>2000-01-03 05:00:00</th>\n",
       "      <td>COOP:055881</td>\n",
       "      <td>NEDERLAND 5 NNW CO US</td>\n",
       "      <td>0.0</td>\n",
       "      <td></td>\n",
       "      <td>q</td>\n",
       "    </tr>\n",
       "  </tbody>\n",
       "</table>\n",
       "</div>"
      ],
      "text/plain": [
       "                         STATION           STATION_NAME  HPCP  \\\n",
       "DATE                                                            \n",
       "2000-01-01 00:00:00  COOP:055881  NEDERLAND 5 NNW CO US   NaN   \n",
       "2000-01-01 01:00:00  COOP:055881  NEDERLAND 5 NNW CO US   0.0   \n",
       "2000-01-02 20:00:00  COOP:055881  NEDERLAND 5 NNW CO US   0.0   \n",
       "2000-01-03 01:00:00  COOP:055881  NEDERLAND 5 NNW CO US   0.0   \n",
       "2000-01-03 05:00:00  COOP:055881  NEDERLAND 5 NNW CO US   0.0   \n",
       "\n",
       "                    Measurement Flag Quality Flag  \n",
       "DATE                                               \n",
       "2000-01-01 00:00:00                ]               \n",
       "2000-01-01 01:00:00                g               \n",
       "2000-01-02 20:00:00                             q  \n",
       "2000-01-03 01:00:00                             q  \n",
       "2000-01-03 05:00:00                             q  "
      ]
     },
     "execution_count": 17,
     "metadata": {},
     "output_type": "execute_result"
    }
   ],
   "source": [
    "precip = pd.read_csv(URL,\n",
    "                     na_values=[999.99],\n",
    "                     index_col=['DATE'],\n",
    "                     parse_dates=['DATE']) # parse_dates= does the same as pd.to_datetime(), just within the read_csv() command\n",
    "precip.head()"
   ]
  },
  {
   "cell_type": "markdown",
   "id": "65448947-5cfa-4323-9fbe-c43514c542bc",
   "metadata": {},
   "source": [
    "## Subsetting by date\n",
    "\n",
    "We can use `.loc['year-month']` to select data from a specific year and month"
   ]
  },
  {
   "cell_type": "code",
   "execution_count": 18,
   "id": "0545c714-401f-41fa-b38d-04edbb0f4935",
   "metadata": {
    "tags": []
   },
   "outputs": [
    {
     "data": {
      "text/html": [
       "<div>\n",
       "<style scoped>\n",
       "    .dataframe tbody tr th:only-of-type {\n",
       "        vertical-align: middle;\n",
       "    }\n",
       "\n",
       "    .dataframe tbody tr th {\n",
       "        vertical-align: top;\n",
       "    }\n",
       "\n",
       "    .dataframe thead th {\n",
       "        text-align: right;\n",
       "    }\n",
       "</style>\n",
       "<table border=\"1\" class=\"dataframe\">\n",
       "  <thead>\n",
       "    <tr style=\"text-align: right;\">\n",
       "      <th></th>\n",
       "      <th>STATION</th>\n",
       "      <th>STATION_NAME</th>\n",
       "      <th>HPCP</th>\n",
       "      <th>Measurement Flag</th>\n",
       "      <th>Quality Flag</th>\n",
       "    </tr>\n",
       "    <tr>\n",
       "      <th>DATE</th>\n",
       "      <th></th>\n",
       "      <th></th>\n",
       "      <th></th>\n",
       "      <th></th>\n",
       "      <th></th>\n",
       "    </tr>\n",
       "  </thead>\n",
       "  <tbody>\n",
       "    <tr>\n",
       "      <th>2013-09-01 00:00:00</th>\n",
       "      <td>COOP:055881</td>\n",
       "      <td>NEDERLAND 5 NNW CO US</td>\n",
       "      <td>NaN</td>\n",
       "      <td>]</td>\n",
       "      <td></td>\n",
       "    </tr>\n",
       "    <tr>\n",
       "      <th>2013-09-01 01:00:00</th>\n",
       "      <td>COOP:055881</td>\n",
       "      <td>NEDERLAND 5 NNW CO US</td>\n",
       "      <td>NaN</td>\n",
       "      <td>[</td>\n",
       "      <td></td>\n",
       "    </tr>\n",
       "    <tr>\n",
       "      <th>2013-09-01 00:00:00</th>\n",
       "      <td>COOP:050183</td>\n",
       "      <td>ALLENSPARK 2 SE CO US</td>\n",
       "      <td>NaN</td>\n",
       "      <td>]</td>\n",
       "      <td></td>\n",
       "    </tr>\n",
       "    <tr>\n",
       "      <th>2013-09-01 01:00:00</th>\n",
       "      <td>COOP:050183</td>\n",
       "      <td>ALLENSPARK 2 SE CO US</td>\n",
       "      <td>NaN</td>\n",
       "      <td>[</td>\n",
       "      <td></td>\n",
       "    </tr>\n",
       "    <tr>\n",
       "      <th>2013-09-01 00:00:00</th>\n",
       "      <td>COOP:055121</td>\n",
       "      <td>LONGMONT 6 NW CO US</td>\n",
       "      <td>NaN</td>\n",
       "      <td>}</td>\n",
       "      <td></td>\n",
       "    </tr>\n",
       "    <tr>\n",
       "      <th>...</th>\n",
       "      <td>...</td>\n",
       "      <td>...</td>\n",
       "      <td>...</td>\n",
       "      <td>...</td>\n",
       "      <td>...</td>\n",
       "    </tr>\n",
       "    <tr>\n",
       "      <th>2013-09-23 02:00:00</th>\n",
       "      <td>COOP:050843</td>\n",
       "      <td>BOULDER 2 CO US</td>\n",
       "      <td>0.2</td>\n",
       "      <td></td>\n",
       "      <td></td>\n",
       "    </tr>\n",
       "    <tr>\n",
       "      <th>2013-09-27 10:00:00</th>\n",
       "      <td>COOP:050843</td>\n",
       "      <td>BOULDER 2 CO US</td>\n",
       "      <td>0.1</td>\n",
       "      <td></td>\n",
       "      <td></td>\n",
       "    </tr>\n",
       "    <tr>\n",
       "      <th>2013-09-27 15:00:00</th>\n",
       "      <td>COOP:050843</td>\n",
       "      <td>BOULDER 2 CO US</td>\n",
       "      <td>0.1</td>\n",
       "      <td></td>\n",
       "      <td></td>\n",
       "    </tr>\n",
       "    <tr>\n",
       "      <th>2013-09-27 17:00:00</th>\n",
       "      <td>COOP:050843</td>\n",
       "      <td>BOULDER 2 CO US</td>\n",
       "      <td>0.1</td>\n",
       "      <td></td>\n",
       "      <td></td>\n",
       "    </tr>\n",
       "    <tr>\n",
       "      <th>2013-09-27 18:00:00</th>\n",
       "      <td>COOP:050843</td>\n",
       "      <td>BOULDER 2 CO US</td>\n",
       "      <td>0.1</td>\n",
       "      <td></td>\n",
       "      <td></td>\n",
       "    </tr>\n",
       "  </tbody>\n",
       "</table>\n",
       "<p>128 rows × 5 columns</p>\n",
       "</div>"
      ],
      "text/plain": [
       "                         STATION           STATION_NAME  HPCP  \\\n",
       "DATE                                                            \n",
       "2013-09-01 00:00:00  COOP:055881  NEDERLAND 5 NNW CO US   NaN   \n",
       "2013-09-01 01:00:00  COOP:055881  NEDERLAND 5 NNW CO US   NaN   \n",
       "2013-09-01 00:00:00  COOP:050183  ALLENSPARK 2 SE CO US   NaN   \n",
       "2013-09-01 01:00:00  COOP:050183  ALLENSPARK 2 SE CO US   NaN   \n",
       "2013-09-01 00:00:00  COOP:055121    LONGMONT 6 NW CO US   NaN   \n",
       "...                          ...                    ...   ...   \n",
       "2013-09-23 02:00:00  COOP:050843        BOULDER 2 CO US   0.2   \n",
       "2013-09-27 10:00:00  COOP:050843        BOULDER 2 CO US   0.1   \n",
       "2013-09-27 15:00:00  COOP:050843        BOULDER 2 CO US   0.1   \n",
       "2013-09-27 17:00:00  COOP:050843        BOULDER 2 CO US   0.1   \n",
       "2013-09-27 18:00:00  COOP:050843        BOULDER 2 CO US   0.1   \n",
       "\n",
       "                    Measurement Flag Quality Flag  \n",
       "DATE                                               \n",
       "2013-09-01 00:00:00                ]               \n",
       "2013-09-01 01:00:00                [               \n",
       "2013-09-01 00:00:00                ]               \n",
       "2013-09-01 01:00:00                [               \n",
       "2013-09-01 00:00:00                }               \n",
       "...                              ...          ...  \n",
       "2013-09-23 02:00:00                                \n",
       "2013-09-27 10:00:00                                \n",
       "2013-09-27 15:00:00                                \n",
       "2013-09-27 17:00:00                                \n",
       "2013-09-27 18:00:00                                \n",
       "\n",
       "[128 rows x 5 columns]"
      ]
     },
     "execution_count": 18,
     "metadata": {},
     "output_type": "execute_result"
    }
   ],
   "source": [
    "# Select precipitation data from September 2013\n",
    "precip.loc['2013-09']"
   ]
  },
  {
   "cell_type": "code",
   "execution_count": 19,
   "id": "1bc6d95d-be33-4449-a69d-77f357a76e2f",
   "metadata": {
    "tags": []
   },
   "outputs": [
    {
     "data": {
      "text/html": [
       "<div>\n",
       "<style scoped>\n",
       "    .dataframe tbody tr th:only-of-type {\n",
       "        vertical-align: middle;\n",
       "    }\n",
       "\n",
       "    .dataframe tbody tr th {\n",
       "        vertical-align: top;\n",
       "    }\n",
       "\n",
       "    .dataframe thead th {\n",
       "        text-align: right;\n",
       "    }\n",
       "</style>\n",
       "<table border=\"1\" class=\"dataframe\">\n",
       "  <thead>\n",
       "    <tr style=\"text-align: right;\">\n",
       "      <th></th>\n",
       "      <th>STATION</th>\n",
       "      <th>STATION_NAME</th>\n",
       "      <th>HPCP</th>\n",
       "      <th>Measurement Flag</th>\n",
       "      <th>Quality Flag</th>\n",
       "    </tr>\n",
       "    <tr>\n",
       "      <th>DATE</th>\n",
       "      <th></th>\n",
       "      <th></th>\n",
       "      <th></th>\n",
       "      <th></th>\n",
       "      <th></th>\n",
       "    </tr>\n",
       "  </thead>\n",
       "  <tbody>\n",
       "    <tr>\n",
       "      <th>2013-01-01 01:00:00</th>\n",
       "      <td>COOP:055881</td>\n",
       "      <td>NEDERLAND 5 NNW CO US</td>\n",
       "      <td>0.0</td>\n",
       "      <td>g</td>\n",
       "      <td></td>\n",
       "    </tr>\n",
       "    <tr>\n",
       "      <th>2013-01-10 02:00:00</th>\n",
       "      <td>COOP:055881</td>\n",
       "      <td>NEDERLAND 5 NNW CO US</td>\n",
       "      <td>NaN</td>\n",
       "      <td>[</td>\n",
       "      <td></td>\n",
       "    </tr>\n",
       "    <tr>\n",
       "      <th>2013-01-13 00:00:00</th>\n",
       "      <td>COOP:055881</td>\n",
       "      <td>NEDERLAND 5 NNW CO US</td>\n",
       "      <td>NaN</td>\n",
       "      <td>]</td>\n",
       "      <td></td>\n",
       "    </tr>\n",
       "    <tr>\n",
       "      <th>2013-01-26 20:00:00</th>\n",
       "      <td>COOP:055881</td>\n",
       "      <td>NEDERLAND 5 NNW CO US</td>\n",
       "      <td>0.1</td>\n",
       "      <td></td>\n",
       "      <td></td>\n",
       "    </tr>\n",
       "    <tr>\n",
       "      <th>2013-01-28 23:00:00</th>\n",
       "      <td>COOP:055881</td>\n",
       "      <td>NEDERLAND 5 NNW CO US</td>\n",
       "      <td>0.1</td>\n",
       "      <td></td>\n",
       "      <td></td>\n",
       "    </tr>\n",
       "    <tr>\n",
       "      <th>...</th>\n",
       "      <td>...</td>\n",
       "      <td>...</td>\n",
       "      <td>...</td>\n",
       "      <td>...</td>\n",
       "      <td>...</td>\n",
       "    </tr>\n",
       "    <tr>\n",
       "      <th>2013-12-22 01:00:00</th>\n",
       "      <td>COOP:050843</td>\n",
       "      <td>BOULDER 2 CO US</td>\n",
       "      <td>NaN</td>\n",
       "      <td>[</td>\n",
       "      <td></td>\n",
       "    </tr>\n",
       "    <tr>\n",
       "      <th>2013-12-23 00:00:00</th>\n",
       "      <td>COOP:050843</td>\n",
       "      <td>BOULDER 2 CO US</td>\n",
       "      <td>NaN</td>\n",
       "      <td>]</td>\n",
       "      <td></td>\n",
       "    </tr>\n",
       "    <tr>\n",
       "      <th>2013-12-23 02:00:00</th>\n",
       "      <td>COOP:050843</td>\n",
       "      <td>BOULDER 2 CO US</td>\n",
       "      <td>0.1</td>\n",
       "      <td></td>\n",
       "      <td></td>\n",
       "    </tr>\n",
       "    <tr>\n",
       "      <th>2013-12-29 01:00:00</th>\n",
       "      <td>COOP:050843</td>\n",
       "      <td>BOULDER 2 CO US</td>\n",
       "      <td>NaN</td>\n",
       "      <td>[</td>\n",
       "      <td></td>\n",
       "    </tr>\n",
       "    <tr>\n",
       "      <th>2013-12-31 00:00:00</th>\n",
       "      <td>COOP:050843</td>\n",
       "      <td>BOULDER 2 CO US</td>\n",
       "      <td>NaN</td>\n",
       "      <td>]</td>\n",
       "      <td></td>\n",
       "    </tr>\n",
       "  </tbody>\n",
       "</table>\n",
       "<p>662 rows × 5 columns</p>\n",
       "</div>"
      ],
      "text/plain": [
       "                         STATION           STATION_NAME  HPCP  \\\n",
       "DATE                                                            \n",
       "2013-01-01 01:00:00  COOP:055881  NEDERLAND 5 NNW CO US   0.0   \n",
       "2013-01-10 02:00:00  COOP:055881  NEDERLAND 5 NNW CO US   NaN   \n",
       "2013-01-13 00:00:00  COOP:055881  NEDERLAND 5 NNW CO US   NaN   \n",
       "2013-01-26 20:00:00  COOP:055881  NEDERLAND 5 NNW CO US   0.1   \n",
       "2013-01-28 23:00:00  COOP:055881  NEDERLAND 5 NNW CO US   0.1   \n",
       "...                          ...                    ...   ...   \n",
       "2013-12-22 01:00:00  COOP:050843        BOULDER 2 CO US   NaN   \n",
       "2013-12-23 00:00:00  COOP:050843        BOULDER 2 CO US   NaN   \n",
       "2013-12-23 02:00:00  COOP:050843        BOULDER 2 CO US   0.1   \n",
       "2013-12-29 01:00:00  COOP:050843        BOULDER 2 CO US   NaN   \n",
       "2013-12-31 00:00:00  COOP:050843        BOULDER 2 CO US   NaN   \n",
       "\n",
       "                    Measurement Flag Quality Flag  \n",
       "DATE                                               \n",
       "2013-01-01 01:00:00                g               \n",
       "2013-01-10 02:00:00                [               \n",
       "2013-01-13 00:00:00                ]               \n",
       "2013-01-26 20:00:00                                \n",
       "2013-01-28 23:00:00                                \n",
       "...                              ...          ...  \n",
       "2013-12-22 01:00:00                [               \n",
       "2013-12-23 00:00:00                ]               \n",
       "2013-12-23 02:00:00                                \n",
       "2013-12-29 01:00:00                [               \n",
       "2013-12-31 00:00:00                ]               \n",
       "\n",
       "[662 rows x 5 columns]"
      ]
     },
     "execution_count": 19,
     "metadata": {},
     "output_type": "execute_result"
    }
   ],
   "source": [
    "# Select 2013 precipitation data\n",
    "precip.loc['2013']"
   ]
  },
  {
   "cell_type": "code",
   "execution_count": 20,
   "id": "58eaa0f6-6cca-4ba1-a85d-4c08693f961d",
   "metadata": {
    "tags": []
   },
   "outputs": [
    {
     "data": {
      "text/plain": [
       "<Axes: xlabel='DATE'>"
      ]
     },
     "execution_count": 20,
     "metadata": {},
     "output_type": "execute_result"
    },
    {
     "data": {
      "image/png": "[encoded data removed]",
      "text/plain": [
       "<Figure size 640x480 with 1 Axes>"
      ]
     },
     "metadata": {},
     "output_type": "display_data"
    }
   ],
   "source": [
    "precip.loc['2013'].plot()"
   ]
  },
  {
   "cell_type": "markdown",
   "id": "c386a0b2-00e5-406b-903e-e820bbeb77ba",
   "metadata": {},
   "source": [
    "## Resample\n",
    "\n",
    "Resampling a time series means converting a time series from one frequency to another. For example, monthly to yearly (downsampling) or weekly to daily (upsampling).\n",
    "\n",
    "We can resample with the `resample()` method. The simplest use is to call\n",
    "\n",
    "```\n",
    "df.resample(new_frequency).aggregator_function()\n",
    "```\n",
    "\n",
    "where:\n",
    "- `new_frequency`: is a string representing the new frequence to resample the data: 'D' for day, 'W' for week, 'Y' for year, 'M' for month.\n",
    "- `aggregator_function()`: is the function we will use to aggregate the data into the new frequency. For example, `max()`, `min()`, `sum()`, `average()`.\n",
    "\n",
    "### Example\n",
    "\n",
    "Our 2013 precipitation data has hourly frequency, we want to resample it to daily frequency (downsampling)"
   ]
  },
  {
   "cell_type": "code",
   "execution_count": 22,
   "id": "2b7ac6a6-5e83-401c-9e1a-1a942d62f315",
   "metadata": {
    "tags": []
   },
   "outputs": [],
   "source": [
    "# Resample 2013 hourly data to daily frequency\n",
    "daily_precip_2013 = precip.loc['2013'].resample('D').sum()"
   ]
  },
  {
   "cell_type": "code",
   "execution_count": 24,
   "id": "be7f6b7c-b1ee-421d-b4b3-d55b1bc61bfa",
   "metadata": {
    "tags": []
   },
   "outputs": [
    {
     "data": {
      "text/plain": [
       "<Axes: title={'center': 'Precipidation in Boulder, CO during 2013'}, xlabel=' ', ylabel='daily precipitation (in)'>"
      ]
     },
     "execution_count": 24,
     "metadata": {},
     "output_type": "execute_result"
    },
    {
     "data": {
      "image/png": "[encoded data removed]",
      "text/plain": [
       "<Figure size 640x480 with 1 Axes>"
      ]
     },
     "metadata": {},
     "output_type": "display_data"
    }
   ],
   "source": [
    "daily_precip_2013.plot(ylabel='daily precipitation (in)',\n",
    "                      xlabel=' ',\n",
    "                      title = 'Precipidation in Boulder, CO during 2013',\n",
    "                      legend = False)\n",
    "\n",
    "# this plot looks better, because by downsampling we are able to fill in some of the missing values from the plot before"
   ]
  },
  {
   "cell_type": "code",
   "execution_count": null,
   "id": "e644c517-c678-477c-a10c-3499716002b1",
   "metadata": {},
   "outputs": [],
   "source": []
  }
 ],
 "metadata": {
  "kernelspec": {
   "display_name": "EDS220",
   "language": "python",
   "name": "eds220-env"
  },
  "language_info": {
   "codemirror_mode": {
    "name": "ipython",
    "version": 3
   },
   "file_extension": ".py",
   "mimetype": "text/x-python",
   "name": "python",
   "nbconvert_exporter": "python",
   "pygments_lexer": "ipython3",
   "version": "3.11.4"
  }
 },
 "nbformat": 4,
 "nbformat_minor": 5
}
