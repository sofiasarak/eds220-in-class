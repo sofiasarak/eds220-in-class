{
 "cells": [
  {
   "cell_type": "markdown",
   "id": "a9f4ed5e",
   "metadata": {},
   "source": [
    "# `geopandas`\n",
    "\n",
    "GeoPandas is a Python library that extends `pandas` by adding support for geospatial data.\n",
    "\n",
    "## Reproducible file paths"
   ]
  },
  {
   "cell_type": "code",
   "execution_count": 1,
   "id": "25577af9",
   "metadata": {},
   "outputs": [],
   "source": [
    "import os\n",
    "import geopandas as gpd\n",
    "import matplotlib.pyplot as plt"
   ]
  },
  {
   "cell_type": "markdown",
   "id": "13abb348",
   "metadata": {},
   "source": [
    "To import data we first use `os` package to create a reproducible file path:"
   ]
  },
  {
   "cell_type": "code",
   "execution_count": 4,
   "id": "60b87a68",
   "metadata": {},
   "outputs": [
    {
     "data": {
      "text/plain": [
       "'data/gbif_sus_scrofa_california/gbif_sus_scrofa_california.shp'"
      ]
     },
     "execution_count": 4,
     "metadata": {},
     "output_type": "execute_result"
    }
   ],
   "source": [
    "fp = os.path.join('data', 'gbif_sus_scrofa_california', 'gbif_sus_scrofa_california.shp')\n",
    "fp"
   ]
  },
  {
   "cell_type": "code",
   "execution_count": 7,
   "id": "de054769",
   "metadata": {},
   "outputs": [
    {
     "data": {
      "text/html": [
       "<div>\n",
       "<style scoped>\n",
       "    .dataframe tbody tr th:only-of-type {\n",
       "        vertical-align: middle;\n",
       "    }\n",
       "\n",
       "    .dataframe tbody tr th {\n",
       "        vertical-align: top;\n",
       "    }\n",
       "\n",
       "    .dataframe thead th {\n",
       "        text-align: right;\n",
       "    }\n",
       "</style>\n",
       "<table border=\"1\" class=\"dataframe\">\n",
       "  <thead>\n",
       "    <tr style=\"text-align: right;\">\n",
       "      <th></th>\n",
       "      <th>gbifID</th>\n",
       "      <th>species</th>\n",
       "      <th>state</th>\n",
       "      <th>individual</th>\n",
       "      <th>day</th>\n",
       "      <th>month</th>\n",
       "      <th>year</th>\n",
       "      <th>inst</th>\n",
       "      <th>collection</th>\n",
       "      <th>catalogNum</th>\n",
       "      <th>identified</th>\n",
       "      <th>geometry</th>\n",
       "    </tr>\n",
       "  </thead>\n",
       "  <tbody>\n",
       "    <tr>\n",
       "      <th>0</th>\n",
       "      <td>899953814</td>\n",
       "      <td>Sus scrofa</td>\n",
       "      <td>California</td>\n",
       "      <td>NaN</td>\n",
       "      <td>22.0</td>\n",
       "      <td>3.0</td>\n",
       "      <td>2014.0</td>\n",
       "      <td>iNaturalist</td>\n",
       "      <td>Observations</td>\n",
       "      <td>581956</td>\n",
       "      <td>edwardrooks</td>\n",
       "      <td>POINT (-121.53812 37.08846)</td>\n",
       "    </tr>\n",
       "    <tr>\n",
       "      <th>1</th>\n",
       "      <td>899951348</td>\n",
       "      <td>Sus scrofa</td>\n",
       "      <td>California</td>\n",
       "      <td>NaN</td>\n",
       "      <td>9.0</td>\n",
       "      <td>6.0</td>\n",
       "      <td>2007.0</td>\n",
       "      <td>iNaturalist</td>\n",
       "      <td>Observations</td>\n",
       "      <td>576047</td>\n",
       "      <td>Bruce Freeman</td>\n",
       "      <td>POINT (-120.54942 35.47354)</td>\n",
       "    </tr>\n",
       "    <tr>\n",
       "      <th>2</th>\n",
       "      <td>896560733</td>\n",
       "      <td>Sus scrofa</td>\n",
       "      <td>California</td>\n",
       "      <td>NaN</td>\n",
       "      <td>20.0</td>\n",
       "      <td>12.0</td>\n",
       "      <td>1937.0</td>\n",
       "      <td>MVZ</td>\n",
       "      <td>Hild</td>\n",
       "      <td>MVZ:Hild:195</td>\n",
       "      <td>Museum of Vertebrate Zoology, University of Ca...</td>\n",
       "      <td>POINT (-122.27063 37.87610)</td>\n",
       "    </tr>\n",
       "    <tr>\n",
       "      <th>3</th>\n",
       "      <td>896559958</td>\n",
       "      <td>Sus scrofa</td>\n",
       "      <td>California</td>\n",
       "      <td>NaN</td>\n",
       "      <td>1.0</td>\n",
       "      <td>4.0</td>\n",
       "      <td>1969.0</td>\n",
       "      <td>MVZ</td>\n",
       "      <td>Hild</td>\n",
       "      <td>MVZ:Hild:1213</td>\n",
       "      <td>Museum of Vertebrate Zoology, University of Ca...</td>\n",
       "      <td>POINT (-121.82297 38.44543)</td>\n",
       "    </tr>\n",
       "    <tr>\n",
       "      <th>4</th>\n",
       "      <td>896559722</td>\n",
       "      <td>Sus scrofa</td>\n",
       "      <td>California</td>\n",
       "      <td>NaN</td>\n",
       "      <td>1.0</td>\n",
       "      <td>1.0</td>\n",
       "      <td>1961.0</td>\n",
       "      <td>MVZ</td>\n",
       "      <td>Hild</td>\n",
       "      <td>MVZ:Hild:1004</td>\n",
       "      <td>Museum of Vertebrate Zoology, University of Ca...</td>\n",
       "      <td>POINT (-121.74559 38.54882)</td>\n",
       "    </tr>\n",
       "  </tbody>\n",
       "</table>\n",
       "</div>"
      ],
      "text/plain": [
       "      gbifID     species       state  individual   day  month    year  \\\n",
       "0  899953814  Sus scrofa  California         NaN  22.0    3.0  2014.0   \n",
       "1  899951348  Sus scrofa  California         NaN   9.0    6.0  2007.0   \n",
       "2  896560733  Sus scrofa  California         NaN  20.0   12.0  1937.0   \n",
       "3  896559958  Sus scrofa  California         NaN   1.0    4.0  1969.0   \n",
       "4  896559722  Sus scrofa  California         NaN   1.0    1.0  1961.0   \n",
       "\n",
       "          inst    collection     catalogNum  \\\n",
       "0  iNaturalist  Observations         581956   \n",
       "1  iNaturalist  Observations         576047   \n",
       "2          MVZ          Hild   MVZ:Hild:195   \n",
       "3          MVZ          Hild  MVZ:Hild:1213   \n",
       "4          MVZ          Hild  MVZ:Hild:1004   \n",
       "\n",
       "                                          identified  \\\n",
       "0                                        edwardrooks   \n",
       "1                                      Bruce Freeman   \n",
       "2  Museum of Vertebrate Zoology, University of Ca...   \n",
       "3  Museum of Vertebrate Zoology, University of Ca...   \n",
       "4  Museum of Vertebrate Zoology, University of Ca...   \n",
       "\n",
       "                      geometry  \n",
       "0  POINT (-121.53812 37.08846)  \n",
       "1  POINT (-120.54942 35.47354)  \n",
       "2  POINT (-122.27063 37.87610)  \n",
       "3  POINT (-121.82297 38.44543)  \n",
       "4  POINT (-121.74559 38.54882)  "
      ]
     },
     "execution_count": 7,
     "metadata": {},
     "output_type": "execute_result"
    }
   ],
   "source": [
    "pigs = gpd.read_file(fp)\n",
    "pigs.head()"
   ]
  },
  {
   "cell_type": "code",
   "execution_count": 8,
   "id": "f647521f",
   "metadata": {},
   "outputs": [
    {
     "data": {
      "text/html": [
       "<div>\n",
       "<style scoped>\n",
       "    .dataframe tbody tr th:only-of-type {\n",
       "        vertical-align: middle;\n",
       "    }\n",
       "\n",
       "    .dataframe tbody tr th {\n",
       "        vertical-align: top;\n",
       "    }\n",
       "\n",
       "    .dataframe thead th {\n",
       "        text-align: right;\n",
       "    }\n",
       "</style>\n",
       "<table border=\"1\" class=\"dataframe\">\n",
       "  <thead>\n",
       "    <tr style=\"text-align: right;\">\n",
       "      <th></th>\n",
       "      <th>REGION</th>\n",
       "      <th>DIVISION</th>\n",
       "      <th>STATEFP</th>\n",
       "      <th>STATENS</th>\n",
       "      <th>GEOID</th>\n",
       "      <th>STUSPS</th>\n",
       "      <th>NAME</th>\n",
       "      <th>LSAD</th>\n",
       "      <th>MTFCC</th>\n",
       "      <th>FUNCSTAT</th>\n",
       "      <th>ALAND</th>\n",
       "      <th>AWATER</th>\n",
       "      <th>INTPTLAT</th>\n",
       "      <th>INTPTLON</th>\n",
       "      <th>geometry</th>\n",
       "    </tr>\n",
       "  </thead>\n",
       "  <tbody>\n",
       "    <tr>\n",
       "      <th>0</th>\n",
       "      <td>4</td>\n",
       "      <td>9</td>\n",
       "      <td>06</td>\n",
       "      <td>01779778</td>\n",
       "      <td>06</td>\n",
       "      <td>CA</td>\n",
       "      <td>California</td>\n",
       "      <td>00</td>\n",
       "      <td>G4000</td>\n",
       "      <td>A</td>\n",
       "      <td>403501101370</td>\n",
       "      <td>20466718403</td>\n",
       "      <td>+37.1551773</td>\n",
       "      <td>-119.5434183</td>\n",
       "      <td>MULTIPOLYGON (((-119.63473 33.26545, -119.6363...</td>\n",
       "    </tr>\n",
       "  </tbody>\n",
       "</table>\n",
       "</div>"
      ],
      "text/plain": [
       "  REGION DIVISION STATEFP   STATENS GEOID STUSPS        NAME LSAD  MTFCC  \\\n",
       "0      4        9      06  01779778    06     CA  California   00  G4000   \n",
       "\n",
       "  FUNCSTAT         ALAND       AWATER     INTPTLAT      INTPTLON  \\\n",
       "0        A  403501101370  20466718403  +37.1551773  -119.5434183   \n",
       "\n",
       "                                            geometry  \n",
       "0  MULTIPOLYGON (((-119.63473 33.26545, -119.6363...  "
      ]
     },
     "execution_count": 8,
     "metadata": {},
     "output_type": "execute_result"
    }
   ],
   "source": [
    "fp = os.path.join('data', 'ca_state_boundary', 'ca_state_boundary.shp')\n",
    "ca_boundary = gpd.read_file(fp)\n",
    "ca_boundary"
   ]
  },
  {
   "cell_type": "markdown",
   "id": "1549d9bc",
   "metadata": {},
   "source": [
    "## `GeoSeries` and `GeoDataFrame`\n",
    "\n",
    "`geopandas.GeoDataFrame` = core structure in geopandas = `pandas.DataFrame` plus a dedicated geometry column that can perform spatial operations.\n",
    "\n",
    "**geometry column** holds the geometry (points, polygons, etc) of each spatial feature. The type of this columns `geopandas.GeoSeries`."
   ]
  },
  {
   "cell_type": "code",
   "execution_count": 9,
   "id": "f50d8f43",
   "metadata": {},
   "outputs": [
    {
     "name": "stdout",
     "output_type": "stream",
     "text": [
      "<class 'geopandas.geodataframe.GeoDataFrame'>\n",
      "<class 'geopandas.geoseries.GeoSeries'>\n",
      "<class 'pandas.core.series.Series'>\n"
     ]
    }
   ],
   "source": [
    "# Check the data type of the pigs data frame\n",
    "\n",
    "print(type(pigs))\n",
    "\n",
    "# Check the data type of the geometry column\n",
    "print(type(pigs.geometry))\n",
    "\n",
    "# Check the data type of the gbifID column\n",
    "print(type(pigs.gbifID))"
   ]
  },
  {
   "cell_type": "code",
   "execution_count": 10,
   "id": "b852131f",
   "metadata": {},
   "outputs": [
    {
     "data": {
      "text/plain": [
       "gbifID           int64\n",
       "species         object\n",
       "state           object\n",
       "individual     float64\n",
       "day            float64\n",
       "month          float64\n",
       "year           float64\n",
       "inst            object\n",
       "collection      object\n",
       "catalogNum      object\n",
       "identified      object\n",
       "geometry      geometry\n",
       "dtype: object"
      ]
     },
     "execution_count": 10,
     "metadata": {},
     "output_type": "execute_result"
    }
   ],
   "source": [
    "# Check the data type of each column\n",
    "pigs.dtypes"
   ]
  },
  {
   "cell_type": "code",
   "execution_count": 11,
   "id": "5afe4057",
   "metadata": {},
   "outputs": [
    {
     "data": {
      "text/plain": [
       "0       Point\n",
       "1       Point\n",
       "2       Point\n",
       "3       Point\n",
       "4       Point\n",
       "        ...  \n",
       "1041    Point\n",
       "1042    Point\n",
       "1043    Point\n",
       "1044    Point\n",
       "1045    Point\n",
       "Length: 1046, dtype: object"
      ]
     },
     "execution_count": 11,
     "metadata": {},
     "output_type": "execute_result"
    }
   ],
   "source": [
    "# Check the type of each element in the geometry column\n",
    "pigs.geom_type"
   ]
  },
  {
   "cell_type": "markdown",
   "id": "46b342ba",
   "metadata": {},
   "source": [
    "What is the geometry type of the single feature in the CA state boundary?"
   ]
  },
  {
   "cell_type": "code",
   "execution_count": 12,
   "id": "4e689beb",
   "metadata": {},
   "outputs": [
    {
     "data": {
      "text/plain": [
       "0    MultiPolygon\n",
       "dtype: object"
      ]
     },
     "execution_count": 12,
     "metadata": {},
     "output_type": "execute_result"
    }
   ],
   "source": [
    "ca_boundary.geom_type"
   ]
  },
  {
   "cell_type": "markdown",
   "id": "97b1be8a",
   "metadata": {},
   "source": [
    "## CRS\n",
    "\n",
    "**coordinate reference system (CRS)** = instructions to locate each spatial feature of our data frame on the surface of the Earth."
   ]
  },
  {
   "cell_type": "code",
   "execution_count": 13,
   "id": "978d8ab6",
   "metadata": {},
   "outputs": [
    {
     "data": {
      "text/plain": [
       "<Geographic 2D CRS: EPSG:4326>\n",
       "Name: WGS 84\n",
       "Axis Info [ellipsoidal]:\n",
       "- Lat[north]: Geodetic latitude (degree)\n",
       "- Lon[east]: Geodetic longitude (degree)\n",
       "Area of Use:\n",
       "- name: World.\n",
       "- bounds: (-180.0, -90.0, 180.0, 90.0)\n",
       "Datum: World Geodetic System 1984 ensemble\n",
       "- Ellipsoid: WGS 84\n",
       "- Prime Meridian: Greenwich"
      ]
     },
     "execution_count": 13,
     "metadata": {},
     "output_type": "execute_result"
    }
   ],
   "source": [
    "# Access the CRS of the GeoDataFrame\n",
    "pigs.crs"
   ]
  },
  {
   "cell_type": "code",
   "execution_count": 15,
   "id": "0d2e4bfa",
   "metadata": {},
   "outputs": [
    {
     "name": "stdout",
     "output_type": "stream",
     "text": [
      "Ellipsoid: WGS 84\n",
      "Datum: World Geodetic System 1984 ensemble\n",
      "Is geographic?: True\n",
      "Is projected?: False\n"
     ]
    }
   ],
   "source": [
    "# Examine CRS details\n",
    "print('Ellipsoid:', pigs.crs.ellipsoid)\n",
    "print('Datum:', pigs.crs.datum)\n",
    "print('Is geographic?:', pigs.crs.is_geographic)\n",
    "print('Is projected?:', pigs.crs.is_projected)"
   ]
  },
  {
   "cell_type": "code",
   "execution_count": null,
   "id": "de597b70",
   "metadata": {},
   "outputs": [
    {
     "data": {
      "text/plain": [
       "array([-124.29448 ,   32.593433, -115.4356  ,   40.934296])"
      ]
     },
     "execution_count": 16,
     "metadata": {},
     "output_type": "execute_result"
    }
   ],
   "source": [
    "# Obtain the geographic extent of the geo-dataframe (returns in long/lat; xmin, xmax, ymin, ymax)\n",
    "pigs.total_bounds"
   ]
  },
  {
   "cell_type": "code",
   "execution_count": 19,
   "id": "ccd0c31a",
   "metadata": {},
   "outputs": [
    {
     "name": "stdout",
     "output_type": "stream",
     "text": [
      "CRS: EPSG:4326 \n",
      "\n",
      "[-124.48201686   32.52883674 -114.13122248   42.00950827]\n"
     ]
    }
   ],
   "source": [
    "# Examine CRS and extent of california boundary\n",
    "print('CRS:', ca_boundary.crs, '\\n')\n",
    "print(ca_boundary.total_bounds)"
   ]
  },
  {
   "cell_type": "code",
   "execution_count": null,
   "id": "3a0f3e46",
   "metadata": {},
   "outputs": [
    {
     "data": {
      "text/plain": [
       "True"
      ]
     },
     "execution_count": 20,
     "metadata": {},
     "output_type": "execute_result"
    }
   ],
   "source": [
    "# Ensuring the CRS are the same\n",
    "pigs.crs == ca_boundary.crs"
   ]
  },
  {
   "cell_type": "markdown",
   "id": "8d4e743f",
   "metadata": {},
   "source": [
    "## (Tiniest) Data Wrangling\n",
    "\n",
    "You can use all your `pandas` data wrangling to wrangle `geopandas.geoDataFrames`.\n"
   ]
  },
  {
   "cell_type": "code",
   "execution_count": 21,
   "id": "91ac9bdd",
   "metadata": {},
   "outputs": [
    {
     "data": {
      "text/plain": [
       "year\n",
       "1818.0     31\n",
       "1910.0      1\n",
       "1925.0      1\n",
       "1927.0      4\n",
       "1929.0      3\n",
       "         ... \n",
       "2019.0    101\n",
       "2020.0    159\n",
       "2021.0    164\n",
       "2022.0    185\n",
       "2023.0     98\n",
       "Name: count, Length: 61, dtype: int64"
      ]
     },
     "execution_count": 21,
     "metadata": {},
     "output_type": "execute_result"
    }
   ],
   "source": [
    "# Examine pig number by year\n",
    "pigs['year'].value_counts().sort_index()"
   ]
  },
  {
   "cell_type": "code",
   "execution_count": 24,
   "id": "e9b3dc1a",
   "metadata": {},
   "outputs": [
    {
     "name": "stdout",
     "output_type": "stream",
     "text": [
      "Total number of observations: 1046\n",
      "Number of observations since 2020: 915\n"
     ]
    }
   ],
   "source": [
    "# Select data from 2020 onwards\n",
    "pigs_recent = pigs[pigs['year'] >= 2000]\n",
    "\n",
    "# Check the length of original data frame\n",
    "print('Total number of observations:', len(pigs))\n",
    "\n",
    "# Check length of new data frame\n",
    "print('Number of observations since 2020:', len(pigs_recent))"
   ]
  },
  {
   "cell_type": "markdown",
   "id": "a80b7b18",
   "metadata": {},
   "source": [
    "# Create a map (preliminary)\n",
    "\n",
    "`gdp.GeoDataFrame` has a `plot()` method that quickly creates a map for our data using the geospatial information."
   ]
  },
  {
   "cell_type": "code",
   "execution_count": 25,
   "id": "04e6a792",
   "metadata": {},
   "outputs": [
    {
     "data": {
      "text/plain": [
       "<Axes: >"
      ]
     },
     "execution_count": 25,
     "metadata": {},
     "output_type": "execute_result"
    },
    {
     "data": {
      "image/png": "[encoded data removed]",
      "text/plain": [
       "<Figure size 640x480 with 1 Axes>"
      ]
     },
     "metadata": {},
     "output_type": "display_data"
    }
   ],
   "source": [
    "pigs_recent.plot()"
   ]
  },
  {
   "cell_type": "code",
   "execution_count": null,
   "id": "86778649",
   "metadata": {},
   "outputs": [],
   "source": []
  }
 ],
 "metadata": {
  "kernelspec": {
   "display_name": "EDS-220 env",
   "language": "python",
   "name": "eds220-env"
  },
  "language_info": {
   "codemirror_mode": {
    "name": "ipython",
    "version": 3
   },
   "file_extension": ".py",
   "mimetype": "text/x-python",
   "name": "python",
   "nbconvert_exporter": "python",
   "pygments_lexer": "ipython3",
   "version": "3.11.4"
  }
 },
 "nbformat": 4,
 "nbformat_minor": 5
}
